{
  "nbformat": 4,
  "nbformat_minor": 0,
  "metadata": {
    "colab": {
      "provenance": []
    },
    "kernelspec": {
      "name": "python3",
      "display_name": "Python 3"
    },
    "language_info": {
      "name": "python"
    }
  },
  "cells": [
    {
      "cell_type": "markdown",
      "source": [
        "##Non-parametric test"
      ],
      "metadata": {
        "id": "Fihy-nIVzLgu"
      }
    },
    {
      "cell_type": "code",
      "source": [
        "import pandas as pd\n",
        "from scipy.stats import kruskal\n",
        "\n",
        "# Load the CSV file\n",
        "df_formants = pd.read_csv('/content/formant_analysis_final.csv')\n",
        "\n",
        "# Correctly split the data into three chunks based on identified patterns\n",
        "df_sitting = df_formants.iloc[0:12].copy()\n",
        "df_standing = df_formants.iloc[13:26].copy()\n",
        "df_supine = df_formants.iloc[27:].copy()\n",
        "\n",
        "# Label each subset with the corresponding position\n",
        "df_sitting['position'] = 'sitting'\n",
        "df_standing['position'] = 'standing'\n",
        "df_supine['position'] = 'supine'\n",
        "\n",
        "# Combine the subsets into a single DataFrame\n",
        "df_combined = pd.concat([df_sitting, df_standing, df_supine], ignore_index=True)\n",
        "\n",
        "# Convert formant columns to numeric, handling non-numeric entries\n",
        "df_combined['F1_Hz'] = pd.to_numeric(df_combined['F1_Hz'], errors='coerce')\n",
        "df_combined['F2_Hz'] = pd.to_numeric(df_combined['F2_Hz'], errors='coerce')\n",
        "df_combined['F3_Hz'] = pd.to_numeric(df_combined['F3_Hz'], errors='coerce')\n",
        "\n",
        "# Drop rows with any NaN values\n",
        "df_combined.dropna(inplace=True)\n",
        "\n",
        "# Create a dictionary to store Kruskal-Wallis test results\n",
        "kruskal_results = {}\n",
        "\n",
        "# Perform Kruskal-Wallis test for each formant frequency\n",
        "for formant in ['F1_Hz', 'F2_Hz', 'F3_Hz']:\n",
        "    # Extract data for each position\n",
        "    sitting_data = df_combined[df_combined['position'] == 'sitting'][formant]\n",
        "    standing_data = df_combined[df_combined['position'] == 'standing'][formant]\n",
        "    supine_data = df_combined[df_combined['position'] == 'supine'][formant]\n",
        "    # Perform Kruskal-Wallis test\n",
        "    h_statistic, p_value = kruskal(sitting_data, standing_data, supine_data)\n",
        "    # Store the results in the dictionary\n",
        "    kruskal_results[formant] = (h_statistic, p_value)\n",
        "\n",
        "# Print Kruskal-Wallis test results\n",
        "for formant, (h_statistic, p_value) in kruskal_results.items():\n",
        "    print(f\"Kruskal-Wallis test for {formant}:\")\n",
        "    print(f\"H-statistic: {h_statistic}\")\n",
        "    print(f\"P-value: {p_value}\\n\")"
      ],
      "metadata": {
        "colab": {
          "base_uri": "https://localhost:8080/"
        },
        "id": "sb2pLkR4wrjU",
        "outputId": "933cc87b-9dee-4ea9-f887-7fe38784153a"
      },
      "execution_count": null,
      "outputs": [
        {
          "output_type": "stream",
          "name": "stdout",
          "text": [
            "Kruskal-Wallis test for F1_Hz:\n",
            "H-statistic: 6.031531531531527\n",
            "P-value: 0.04900829224174808\n",
            "\n",
            "Kruskal-Wallis test for F2_Hz:\n",
            "H-statistic: 0.2942942942942892\n",
            "P-value: 0.8631669555160798\n",
            "\n",
            "Kruskal-Wallis test for F3_Hz:\n",
            "H-statistic: 1.4099099099099135\n",
            "P-value: 0.49413083190041984\n",
            "\n"
          ]
        }
      ]
    },
    {
      "cell_type": "code",
      "source": [
        "\n",
        "import pandas as pd\n",
        "from scipy.stats import friedmanchisquare\n",
        "\n",
        "# Load the CSV file\n",
        "df_formants = pd.read_csv('/content/formant_analysis_final.csv')\n",
        "\n",
        "# Correctly split the data into three chunks based on identified patterns\n",
        "df_sitting = df_formants.iloc[0:12].copy()\n",
        "df_standing = df_formants.iloc[13:26].copy()\n",
        "df_supine = df_formants.iloc[27:].copy()\n",
        "\n",
        "# Label each subset with the corresponding position\n",
        "df_sitting['position'] = 'sitting'\n",
        "df_standing['position'] = 'standing'\n",
        "df_supine['position'] = 'supine'\n",
        "\n",
        "# Combine the subsets into a single DataFrame\n",
        "df_combined = pd.concat([df_sitting, df_standing, df_supine], ignore_index=True)\n",
        "\n",
        "# Convert formant columns to numeric, handling non-numeric entries\n",
        "df_combined['F1_Hz'] = pd.to_numeric(df_combined['F1_Hz'], errors='coerce')\n",
        "df_combined['F2_Hz'] = pd.to_numeric(df_combined['F2_Hz'], errors='coerce')\n",
        "df_combined['F3_Hz'] = pd.to_numeric(df_combined['F3_Hz'], errors='coerce')\n",
        "\n",
        "# Drop rows with any NaN values\n",
        "df_combined.dropna(inplace=True)\n",
        "\n",
        "# Create a dictionary to store Friedman test results\n",
        "friedman_results = {}\n",
        "\n",
        "# Perform Friedman test for each formant frequency\n",
        "for formant in ['F1_Hz', 'F2_Hz', 'F3_Hz']:\n",
        "    # Extract data for each position\n",
        "    sitting_data = df_combined[df_combined['position'] == 'sitting'][formant]\n",
        "    standing_data = df_combined[df_combined['position'] == 'standing'][formant]\n",
        "    supine_data = df_combined[df_combined['position'] == 'supine'][formant]\n",
        "    # Perform Friedman test\n",
        "    stat, p_value = friedmanchisquare(sitting_data, standing_data, supine_data)\n",
        "    # Store the results in the dictionary\n",
        "    friedman_results[formant] = (stat, p_value)\n",
        "\n",
        "# Print Friedman test results\n",
        "for formant, (stat, p_value) in friedman_results.items():\n",
        "    print(f\"Friedman test for {formant}:\")\n",
        "    print(f\"Test statistic: {stat}\")\n",
        "    print(f\"P-value: {p_value}\\n\")"
      ],
      "metadata": {
        "colab": {
          "base_uri": "https://localhost:8080/"
        },
        "id": "bHlq1a20xUuN",
        "outputId": "46db9cb5-afa1-4466-8649-beae4b45e783"
      },
      "execution_count": null,
      "outputs": [
        {
          "output_type": "stream",
          "name": "stdout",
          "text": [
            "Friedman test for F1_Hz:\n",
            "Test statistic: 12.166666666666657\n",
            "P-value: 0.0022805620953921715\n",
            "\n",
            "Friedman test for F2_Hz:\n",
            "Test statistic: 0.5\n",
            "P-value: 0.7788007830714049\n",
            "\n",
            "Friedman test for F3_Hz:\n",
            "Test statistic: 4.666666666666657\n",
            "P-value: 0.09697196786440551\n",
            "\n"
          ]
        }
      ]
    },
    {
      "cell_type": "markdown",
      "source": [
        "##Parametric test"
      ],
      "metadata": {
        "id": "SGSu3gWV0eAr"
      }
    },
    {
      "cell_type": "code",
      "source": [
        "import pandas as pd\n",
        "import statsmodels.api as sm\n",
        "from statsmodels.formula.api import ols\n",
        "\n",
        "# Load the CSV file\n",
        "df_formants = pd.read_csv('/content/formant_analysis_final.csv')\n",
        "\n",
        "# Correctly split the data into three chunks based on identified patterns\n",
        "df_sitting = df_formants.iloc[0:12].copy()\n",
        "df_standing = df_formants.iloc[13:26].copy()\n",
        "df_supine = df_formants.iloc[27:].copy()\n",
        "\n",
        "# Label each subset with the corresponding position\n",
        "df_sitting['position'] = 'sitting'\n",
        "df_standing['position'] = 'standing'\n",
        "df_supine['position'] = 'supine'\n",
        "\n",
        "# Combine the subsets into a single DataFrame\n",
        "df_combined = pd.concat([df_sitting, df_standing, df_supine], ignore_index=True)\n",
        "\n",
        "# Convert formant columns to numeric, handling non-numeric entries\n",
        "df_combined['F1_Hz'] = pd.to_numeric(df_combined['F1_Hz'], errors='coerce')\n",
        "df_combined['F2_Hz'] = pd.to_numeric(df_combined['F2_Hz'], errors='coerce')\n",
        "df_combined['F3_Hz'] = pd.to_numeric(df_combined['F3_Hz'], errors='coerce')\n",
        "\n",
        "# Drop rows with any NaN values\n",
        "df_combined.dropna(inplace=True)\n",
        "\n",
        "# Perform ANOVA for each formant (F1, F2, and F3) separately for each position\n",
        "formula = '{formant} ~ C(position)'\n",
        "results = {}\n",
        "for formant in ['F1_Hz', 'F2_Hz', 'F3_Hz']:\n",
        "    model = ols(formula.format(formant=formant), data=df_combined).fit()\n",
        "    anova_result = sm.stats.anova_lm(model, typ=2)\n",
        "    results[formant] = anova_result\n",
        "\n",
        "# Print ANOVA results for each formant\n",
        "for formant, anova_result in results.items():\n",
        "    print(f\"ANOVA Results for {formant}:\\n{anova_result}\\n\")"
      ],
      "metadata": {
        "colab": {
          "base_uri": "https://localhost:8080/"
        },
        "id": "F9G7Q14QziRn",
        "outputId": "2847d04f-c19c-424e-89a5-24d5cd9fac1e"
      },
      "execution_count": null,
      "outputs": [
        {
          "output_type": "stream",
          "name": "stdout",
          "text": [
            "ANOVA Results for F1_Hz:\n",
            "                    sum_sq    df         F    PR(>F)\n",
            "C(position)  159827.041667   2.0  2.639561  0.086419\n",
            "Residual     999084.977107  33.0       NaN       NaN\n",
            "\n",
            "ANOVA Results for F2_Hz:\n",
            "                   sum_sq    df         F    PR(>F)\n",
            "C(position)  1.853244e+05   2.0  0.316756  0.730699\n",
            "Residual     9.653640e+06  33.0       NaN       NaN\n",
            "\n",
            "ANOVA Results for F3_Hz:\n",
            "                   sum_sq    df         F    PR(>F)\n",
            "C(position)  2.192340e+05   2.0  0.833868  0.443312\n",
            "Residual     4.338048e+06  33.0       NaN       NaN\n",
            "\n"
          ]
        }
      ]
    },
    {
      "cell_type": "code",
      "source": [
        "\"\"\"\n",
        "Welch's ANOVA is a modification of the traditional ANOVA test that does not assume equal variances across groups.\n",
        "It's particularly useful when the assumption of homogeneity of variances is violated.\n",
        "\"\"\"\n",
        "from scipy.stats import f_oneway\n",
        "import pandas as pd\n",
        "\n",
        "\n",
        "# Load the CSV file\n",
        "df_formants = pd.read_csv('/content/formant_analysis_final.csv')\n",
        "\n",
        "# Correctly split the data into three chunks based on identified patterns\n",
        "df_sitting = df_formants.iloc[0:12].copy()\n",
        "df_standing = df_formants.iloc[13:26].copy()\n",
        "df_supine = df_formants.iloc[27:].copy()\n",
        "\n",
        "# Label each subset with the corresponding position\n",
        "df_sitting['position'] = 'sitting'\n",
        "df_standing['position'] = 'standing'\n",
        "df_supine['position'] = 'supine'\n",
        "\n",
        "# Combine the subsets into a single DataFrame\n",
        "df_combined = pd.concat([df_sitting, df_standing, df_supine], ignore_index=True)\n",
        "\n",
        "# Convert formant columns to numeric, handling non-numeric entries\n",
        "df_combined['F1_Hz'] = pd.to_numeric(df_combined['F1_Hz'], errors='coerce')\n",
        "df_combined['F2_Hz'] = pd.to_numeric(df_combined['F2_Hz'], errors='coerce')\n",
        "df_combined['F3_Hz'] = pd.to_numeric(df_combined['F3_Hz'], errors='coerce')\n",
        "\n",
        "# Drop rows with any NaN values\n",
        "df_combined.dropna(inplace=True)\n",
        "\n",
        "# Create a dictionary to store Welch's ANOVA test results\n",
        "welch_anova_results = {}\n",
        "\n",
        "# Perform Welch's ANOVA test for each formant frequency\n",
        "for formant in ['F1_Hz', 'F2_Hz', 'F3_Hz']:\n",
        "    # Extract data for each position\n",
        "    sitting_data = df_combined[df_combined['position'] == 'sitting'][formant]\n",
        "    standing_data = df_combined[df_combined['position'] == 'standing'][formant]\n",
        "    supine_data = df_combined[df_combined['position'] == 'supine'][formant]\n",
        "    # Perform Welch's ANOVA test\n",
        "    statistic, p_value = f_oneway(sitting_data, standing_data, supine_data)\n",
        "    # Store the results in the dictionary\n",
        "    welch_anova_results[formant] = (statistic, p_value)\n",
        "\n",
        "# Print Welch's ANOVA test results\n",
        "for formant, (statistic, p_value) in welch_anova_results.items():\n",
        "    print(f\"Welch's ANOVA test for {formant}:\")\n",
        "    print(f\"Test statistic: {statistic}\")\n",
        "    print(f\"P-value: {p_value}\\n\")\n"
      ],
      "metadata": {
        "colab": {
          "base_uri": "https://localhost:8080/"
        },
        "id": "dneOUq0aySOo",
        "outputId": "9ab22495-14bc-4d12-acd8-f8e7a4c9ca7f"
      },
      "execution_count": null,
      "outputs": [
        {
          "output_type": "stream",
          "name": "stdout",
          "text": [
            "Welch's ANOVA test for F1_Hz:\n",
            "Test statistic: 2.6395614466650645\n",
            "P-value: 0.08641862866184676\n",
            "\n",
            "Welch's ANOVA test for F2_Hz:\n",
            "Test statistic: 0.31675637254478417\n",
            "P-value: 0.7306985455711174\n",
            "\n",
            "Welch's ANOVA test for F3_Hz:\n",
            "Test statistic: 0.8338683472469535\n",
            "P-value: 0.44331194460818946\n",
            "\n"
          ]
        }
      ]
    },
    {
      "cell_type": "code",
      "source": [],
      "metadata": {
        "id": "6m1dPk4b0x-R"
      },
      "execution_count": null,
      "outputs": []
    }
  ]
}